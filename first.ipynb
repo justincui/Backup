{
  "nbformat": 4,
  "nbformat_minor": 0,
  "metadata": {
    "colab": {
      "name": "Untitled0.ipynb",
      "provenance": [],
      "authorship_tag": "ABX9TyMnTk/pSeAHVTJtJz3mGxhd",
      "include_colab_link": true
    },
    "kernelspec": {
      "name": "python3",
      "display_name": "Python 3"
    },
    "accelerator": "GPU"
  },
  "cells": [
    {
      "cell_type": "markdown",
      "metadata": {
        "id": "view-in-github",
        "colab_type": "text"
      },
      "source": [
        "<a href=\"https://colab.research.google.com/github/justincui/Backup/blob/master/first.ipynb\" target=\"_parent\"><img src=\"https://colab.research.google.com/assets/colab-badge.svg\" alt=\"Open In Colab\"/></a>"
      ]
    },
    {
      "cell_type": "code",
      "metadata": {
        "colab": {
          "base_uri": "https://localhost:8080/"
        },
        "id": "fPtk83MYIQo3",
        "outputId": "6a111818-36b8-46b0-b146-06941ef16856"
      },
      "source": [
        "!git clone https://github.com/justincui/pytorch-Deep-Learning.git"
      ],
      "execution_count": 1,
      "outputs": [
        {
          "output_type": "stream",
          "name": "stdout",
          "text": [
            "Cloning into 'pytorch-Deep-Learning'...\n",
            "remote: Enumerating objects: 9552, done.\u001b[K\n",
            "remote: Counting objects: 100% (680/680), done.\u001b[K\n",
            "remote: Compressing objects: 100% (517/517), done.\u001b[K\n",
            "remote: Total 9552 (delta 234), reused 525 (delta 161), pack-reused 8872\u001b[K\n",
            "Receiving objects: 100% (9552/9552), 188.21 MiB | 30.42 MiB/s, done.\n",
            "Resolving deltas: 100% (5492/5492), done.\n"
          ]
        }
      ]
    },
    {
      "cell_type": "code",
      "metadata": {
        "colab": {
          "base_uri": "https://localhost:8080/"
        },
        "id": "Z0NymJ0EITuk",
        "outputId": "8e975b03-4608-4e73-f4dd-31910160448b"
      },
      "source": [
        "!ls"
      ],
      "execution_count": 4,
      "outputs": [
        {
          "output_type": "stream",
          "name": "stdout",
          "text": [
            "pytorch-Deep-Learning  sample_data\n"
          ]
        }
      ]
    },
    {
      "cell_type": "code",
      "metadata": {
        "id": "MEslkdQ6IllE"
      },
      "source": [
        "!cd sample_data/"
      ],
      "execution_count": 7,
      "outputs": []
    },
    {
      "cell_type": "code",
      "metadata": {
        "colab": {
          "base_uri": "https://localhost:8080/"
        },
        "id": "TOtXckNlIttY",
        "outputId": "768541cb-f1f8-46fb-9af3-147abf91b1a6"
      },
      "source": [
        "!ls"
      ],
      "execution_count": 14,
      "outputs": [
        {
          "output_type": "stream",
          "name": "stdout",
          "text": [
            "pytorch-Deep-Learning  sample_data\n"
          ]
        }
      ]
    },
    {
      "cell_type": "code",
      "metadata": {
        "id": "6sC0bXt_I6ga"
      },
      "source": [
        ""
      ],
      "execution_count": null,
      "outputs": []
    }
  ]
}